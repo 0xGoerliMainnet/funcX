{
 "cells": [
  {
   "cell_type": "markdown",
   "metadata": {},
   "source": [
    "The following is idealized code snippets that describe how I imagine funcX would be used."
   ]
  },
  {
   "cell_type": "code",
   "execution_count": null,
   "metadata": {},
   "outputs": [],
   "source": [
    "import funcx"
   ]
  },
  {
   "cell_type": "code",
   "execution_count": null,
   "metadata": {},
   "outputs": [],
   "source": [
    "# In a notebook setting, treating the function as a string is a bit lame\n",
    "# We are in a python environment, treat it as such.\n",
    "# Expect user's to be running the functions in the notebook and then\n",
    "# deciding to farm it out to funcx.\n",
    "\n",
    "\n",
    "# Python example\n",
    "@funcx.register(description=\"Yadu's test function\")\n",
    "def test_sum_yadu(data):\n",
    "    return sum(data)\n",
    "\n",
    "\n",
    "# Alternatively, we could do :\n",
    "# test_sum_yadu = funcx.register(test_sum_yadu)"
   ]
  },
  {
   "cell_type": "code",
   "execution_count": null,
   "metadata": {},
   "outputs": [],
   "source": [
    "result = funcx.run(test_sum_ryan3, [1,2,3,4], target=['ENDPOINT_ID'])\n",
    "print(result)"
   ]
  },
  {
   "cell_type": "code",
   "execution_count": null,
   "metadata": {},
   "outputs": [],
   "source": [
    "# I imagine something like this also would be possible ?\n",
    "\n",
    "results = [funcx.run(test_sum_ryan3, range(i), target=['ENDPOINT_ID'], async=True) for i in range(10)]\n",
    "print(results)"
   ]
  }
 ],
 "metadata": {
  "kernelspec": {
   "display_name": "Python 3",
   "language": "python",
   "name": "python3"
  },
  "language_info": {
   "codemirror_mode": {
    "name": "ipython",
    "version": 3
   },
   "file_extension": ".py",
   "mimetype": "text/x-python",
   "name": "python",
   "nbconvert_exporter": "python",
   "pygments_lexer": "ipython3",
   "version": "3.6.8"
  }
 },
 "nbformat": 4,
 "nbformat_minor": 2
}
