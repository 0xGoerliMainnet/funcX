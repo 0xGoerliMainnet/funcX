{
 "cells": [
  {
   "cell_type": "code",
   "execution_count": 1,
   "metadata": {},
   "outputs": [],
   "source": [
    "import json\n",
    "import sys\n",
    "\n",
    "from funcx.sdk.client import FuncXClient"
   ]
  },
  {
   "cell_type": "code",
   "execution_count": 2,
   "metadata": {},
   "outputs": [],
   "source": [
    "fxc = FuncXClient()"
   ]
  },
  {
   "cell_type": "code",
   "execution_count": 3,
   "metadata": {},
   "outputs": [],
   "source": [
    "func = \"\"\"\n",
    "def test_sum(event):\n",
    "    print(event)\n",
    "    return sum(event['data'])\n",
    "\"\"\""
   ]
  },
  {
   "cell_type": "code",
   "execution_count": 4,
   "metadata": {},
   "outputs": [
    {
     "name": "stdout",
     "output_type": "stream",
     "text": [
      "ad984762-d3e8-4bd5-9ad9-84b9d99d4151\n"
     ]
    }
   ],
   "source": [
    "func_uuid = fxc.register_function(\"test_sum\", func, \"test_sum\", \n",
    "                                  description=\"A sum function.\")\n",
    "print(func_uuid)"
   ]
  },
  {
   "cell_type": "code",
   "execution_count": 5,
   "metadata": {},
   "outputs": [
    {
     "name": "stdout",
     "output_type": "stream",
     "text": [
      "<FuncXFuture at 0x7f284cac8ac8 state=running>\n",
      "76\n"
     ]
    }
   ],
   "source": [
    "payload = [1,2,3,4,66]\n",
    "\n",
    "endpoint_uuid = fxc.get_local_endpoint()\n",
    "\n",
    "res = fxc.run(payload, endpoint_uuid, func_uuid, asynchronous=True, async_poll=1)\n",
    "print(res)\n",
    "print(res.result())"
   ]
  },
  {
   "cell_type": "code",
   "execution_count": null,
   "metadata": {},
   "outputs": [],
   "source": []
  }
 ],
 "metadata": {
  "kernelspec": {
   "display_name": "Python (funcx)",
   "language": "python",
   "name": "funcx"
  },
  "language_info": {
   "codemirror_mode": {
    "name": "ipython",
    "version": 3
   },
   "file_extension": ".py",
   "mimetype": "text/x-python",
   "name": "python",
   "nbconvert_exporter": "python",
   "pygments_lexer": "ipython3",
   "version": "3.6.8"
  }
 },
 "nbformat": 4,
 "nbformat_minor": 2
}
