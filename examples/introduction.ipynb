{
 "cells": [
  {
   "cell_type": "code",
   "execution_count": 1,
   "metadata": {},
   "outputs": [],
   "source": [
    "import json\n",
    "import sys\n",
    "\n",
    "from funcx.sdk.client import FuncXClient"
   ]
  },
  {
   "cell_type": "code",
   "execution_count": 2,
   "metadata": {},
   "outputs": [],
   "source": [
    "fxc = FuncXClient()"
   ]
  },
  {
   "cell_type": "code",
   "execution_count": 3,
   "metadata": {},
   "outputs": [],
   "source": [
    "func = \"\"\"\n",
    "def test_sum_ryan3(event):\n",
    "    print(event)\n",
    "    return sum(event['data'])\n",
    "\"\"\""
   ]
  },
  {
   "cell_type": "code",
   "execution_count": 6,
   "metadata": {},
   "outputs": [
    {
     "name": "stdout",
     "output_type": "stream",
     "text": [
      "90abe44b-ef63-4da0-b00d-d157c93e2175\n"
     ]
    }
   ],
   "source": [
    "func_uuid = fxc.register_function(\"test_sum_ryan3\", func, \"test_sum_ryan3\", \n",
    "                                  description=\"A sum function.\")\n",
    "print(func_uuid)"
   ]
  },
  {
   "cell_type": "code",
   "execution_count": 7,
   "metadata": {},
   "outputs": [
    {
     "name": "stdout",
     "output_type": "stream",
     "text": [
      "{'endpoint': 'd342ab25-42e9-4922-b831-37398f67062e', 'func': '90abe44b-ef63-4da0-b00d-d157c93e2175', 'is_async': False}\n",
      "76\n"
     ]
    }
   ],
   "source": [
    "payload = [1,2,3,4,66]\n",
    "\n",
    "endpoint_uuid = \"d342ab25-42e9-4922-b831-37398f67062e\"\n",
    "\n",
    "res = fxc.run(payload, endpoint_uuid, func_uuid)\n",
    "print(res)"
   ]
  },
  {
   "cell_type": "code",
   "execution_count": null,
   "metadata": {},
   "outputs": [],
   "source": []
  }
 ],
 "metadata": {
  "kernelspec": {
   "display_name": "Python (funcx)",
   "language": "python",
   "name": "funcx"
  },
  "language_info": {
   "codemirror_mode": {
    "name": "ipython",
    "version": 3
   },
   "file_extension": ".py",
   "mimetype": "text/x-python",
   "name": "python",
   "nbconvert_exporter": "python",
   "pygments_lexer": "ipython3",
   "version": "3.6.8"
  }
 },
 "nbformat": 4,
 "nbformat_minor": 2
}
