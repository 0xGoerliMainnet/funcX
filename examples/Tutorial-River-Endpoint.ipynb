{
 "cells": [
  {
   "cell_type": "markdown",
   "metadata": {},
   "source": [
    "# funcX Tutorial\n",
    "\n",
    "funcX is a Function-as-a-Service (FaaS) platform for science that enables you to convert almost any computing resource into a high-performance function serving device. Deploying a funcX endpoint will integrate your resource into the function serving fabric, allowing you to dynamically send, monitor, and receive results from function invocations. funcX is built on top of Parsl, allowing you to connect your endpoint to large compute resources via traditional batch queues, where funcX will dynamically provision, use, and release resources on-demand to fulfill function requests.\n",
    "\n",
    "Here we provide an example of using funcX to register a function and run it on a publicly available tutorial endpoint."
   ]
  },
  {
   "cell_type": "markdown",
   "metadata": {},
   "source": [
    "We start by creating a funcX client to interact with the service."
   ]
  },
  {
   "cell_type": "code",
   "execution_count": 1,
   "metadata": {},
   "outputs": [],
   "source": [
    "from funcx.sdk.client import FuncXClient\n",
    "\n",
    "fxc = FuncXClient()"
   ]
  },
  {
   "cell_type": "markdown",
   "metadata": {},
   "source": [
    "Here we define the tutorial endpoint to be used in this demonstration. Because the tutorial endpoint is Kubernetes-based, we select a simple python3.6 container that will be used during execution."
   ]
  },
  {
   "cell_type": "code",
   "execution_count": 2,
   "metadata": {},
   "outputs": [],
   "source": [
    "def platform(items):\n",
    "    import platform\n",
    "    return platform.uname()"
   ]
  },
  {
   "cell_type": "markdown",
   "metadata": {},
   "source": [
    "#### Register a function <b>WITHOUT</b> a container and run the function using the public tutorial endpoint"
   ]
  },
  {
   "cell_type": "code",
   "execution_count": 3,
   "metadata": {},
   "outputs": [
    {
     "name": "stdout",
     "output_type": "stream",
     "text": [
      "1ff4cbcb-4754-40ac-97c6-48fcd127971a\n"
     ]
    }
   ],
   "source": [
    "func_uuid1 = fxc.register_function(platform,\n",
    "                                   description=\"A function to list platform info\")\n",
    "print(func_uuid1)"
   ]
  },
  {
   "cell_type": "code",
   "execution_count": 4,
   "metadata": {},
   "outputs": [
    {
     "name": "stdout",
     "output_type": "stream",
     "text": [
      "533fb077-f670-4a19-941e-9a8dc46dce30\n"
     ]
    }
   ],
   "source": [
    "payload = [1, 2, 3, 4, 66]\n",
    "\n",
    "endpoint_uuid = '4b116d3c-1703-4f8f-9f6f-39921e5864df' # Public tutorial endpoint\n",
    "\n",
    "res1 = fxc.run(payload, endpoint_id=endpoint_uuid, function_id=func_uuid1)\n",
    "print(res1)"
   ]
  },
  {
   "cell_type": "code",
   "execution_count": 5,
   "metadata": {},
   "outputs": [
    {
     "data": {
      "text/plain": [
       "uname_result(system='Linux', node='ip-10-0-1-192.ec2.internal', release='4.14.152-127.182.amzn2.x86_64', version='#1 SMP Thu Nov 14 17:32:43 UTC 2019', machine='x86_64', processor='')"
      ]
     },
     "execution_count": 5,
     "metadata": {},
     "output_type": "execute_result"
    }
   ],
   "source": [
    "fxc.get_result(res1)"
   ]
  },
  {
   "cell_type": "markdown",
   "metadata": {},
   "source": [
    "#### Now register a function <b>WITH</b> a container (Docker). Then we can run this function on a River endpoint.\n",
    "\n",
    "#### To run on River, you will need to be added to a globus group. Please send Zhuozhao (zhuozhao@uchicago.edu) an email."
   ]
  },
  {
   "cell_type": "code",
   "execution_count": 6,
   "metadata": {},
   "outputs": [
    {
     "name": "stdout",
     "output_type": "stream",
     "text": [
      "d65b143b-c1c0-4443-9fea-679bbf6cb734\n"
     ]
    }
   ],
   "source": [
    "func_uuid2 = fxc.register_function(platform,\n",
    "                                   container_uuid='00d68bd4-ca6a-4804-a6fa-6ed23b23f607',   # A docker container\n",
    "                                   description=\"A function to list platform info\")\n",
    "print(func_uuid2)"
   ]
  },
  {
   "cell_type": "code",
   "execution_count": 12,
   "metadata": {
    "scrolled": true
   },
   "outputs": [
    {
     "name": "stdout",
     "output_type": "stream",
     "text": [
      "6e682672-8ad0-4ff8-8369-a34b292b75a7\n"
     ]
    }
   ],
   "source": [
    "payload = [1]\n",
    "\n",
    "endpoint_uuid = \"2c92a06a-015d-4bfa-924c-b3d0c36bdad7\" # River endpoint\n",
    "\n",
    "res2 = fxc.run(payload, endpoint_id=endpoint_uuid, function_id=func_uuid2)\n",
    "print(res2)"
   ]
  },
  {
   "cell_type": "code",
   "execution_count": 13,
   "metadata": {},
   "outputs": [
    {
     "data": {
      "text/plain": [
       "uname_result(system='Linux', node='funcx-river-1581550383901', release='5.3.2-1.el7.elrepo.x86_64', version='#1 SMP Tue Oct 1 08:18:21 EDT 2019', machine='x86_64', processor='')"
      ]
     },
     "execution_count": 13,
     "metadata": {},
     "output_type": "execute_result"
    }
   ],
   "source": [
    "fxc.get_result(res2)"
   ]
  },
  {
   "cell_type": "code",
   "execution_count": null,
   "metadata": {},
   "outputs": [],
   "source": []
  }
 ],
 "metadata": {
  "kernelspec": {
   "display_name": "Python (funcx)",
   "language": "python",
   "name": "funcx"
  },
  "language_info": {
   "codemirror_mode": {
    "name": "ipython",
    "version": 3
   },
   "file_extension": ".py",
   "mimetype": "text/x-python",
   "name": "python",
   "nbconvert_exporter": "python",
   "pygments_lexer": "ipython3",
   "version": "3.6.7"
  }
 },
 "nbformat": 4,
 "nbformat_minor": 2
}
