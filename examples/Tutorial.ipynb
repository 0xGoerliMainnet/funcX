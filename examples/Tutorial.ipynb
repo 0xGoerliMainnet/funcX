{
 "cells": [
  {
   "cell_type": "markdown",
   "metadata": {},
   "source": [
    "# funcX Tutorial\n",
    "\n",
    "funcX is a Function-as-a-Service (FaaS) platform for science that enables you to convert almost any computing resource into a high-performance function serving device. Deploying a funcX endpoint agent will integrate your resource into the function serving fabric, allowing you to dynamically send, monitor, and receive results from function invocations. funcX is built on top of [Parsl](https://parsl-project.org), allowing you to connect your endpoint to large compute resources via traditional batch queues, where funcX will dynamically provision, use, and release resources on-demand to fulfill function requests.\n",
    "\n",
    "Here we provide an example of using funcX to register a function and run it on a publicly available tutorial endpoint."
   ]
  },
  {
   "cell_type": "markdown",
   "metadata": {},
   "source": [
    "## funcX Client\n",
    "\n",
    "We start by creating a funcX client to interact with the service. The client is a programmatic means of communicating with the funcX service and allows you to:\n",
    "- Register functions\n",
    "- Register containers and execution environments\n",
    "- Launch registered function against endpoints\n",
    "- Check the status of launched functions and\n",
    "- Retrieve outputs from functions\n",
    "\n",
    "#### Authentication\n",
    "\n",
    "Creating a client will force an authentication flow where you will be asked to authenticate with Globus Auth. Every interaction with funcX is authenticated to allow us to enforce access control on both functions and endpoints. As part of the authentication process we request access to your identity information (to retrieve your email address) and Globus Groups management access. We require Groups access in order to facilitate sharing."
   ]
  },
  {
   "cell_type": "code",
   "execution_count": 1,
   "metadata": {},
   "outputs": [],
   "source": [
    "from funcx.sdk.client import FuncXClient\n",
    "\n",
    "fxc = FuncXClient()"
   ]
  },
  {
   "cell_type": "markdown",
   "metadata": {},
   "source": [
    "Here we define a Python function to register with funcX. This function simply sums the input passed to the function.\n",
    "\n",
    "When defining a function you can specify \\*args and \\*\\*kwargs as inputs. \n",
    "\n",
    "##### Note: any dependencies for the function must be specified inside the function body."
   ]
  },
  {
   "cell_type": "code",
   "execution_count": 2,
   "metadata": {},
   "outputs": [],
   "source": [
    "def funcx_sum(items):\n",
    "    return sum(items)"
   ]
  },
  {
   "cell_type": "markdown",
   "metadata": {},
   "source": [
    "## Registering a function\n",
    "\n",
    "To use a function with funcX you must first register it with the service. Using `register_function`, you can specify a function to register. You can also optionally include a description of the function.\n",
    "\n",
    "The registration process will serialize the function body and transmit it to the funcX Web Service.\n",
    "\n",
    "Registering a function results in a UUID that can be used to invoke the function."
   ]
  },
  {
   "cell_type": "code",
   "execution_count": 3,
   "metadata": {},
   "outputs": [
    {
     "name": "stdout",
     "output_type": "stream",
     "text": [
      "9975a590-e3a9-4277-941a-e8bd6482be90\n"
     ]
    }
   ],
   "source": [
    "func_uuid = fxc.register_function(funcx_sum,\n",
    "                                  description=\"A sleep function\")\n",
    "print(func_uuid)"
   ]
  },
  {
   "cell_type": "markdown",
   "metadata": {},
   "source": [
    "## Running a function\n",
    "\n",
    "To invoke a function you must specify the `function_id`, returned from the registration process, and an `endpoint_id`, to perform the function. Note: here we use the funcX public tutorial endpoint.\n",
    "\n",
    "The client's `run` function will serialize any \\*args and \\*\\*kwargs, and pass them to the function when invoking it. Therefore, as our example function simply takes an arg input (items) we can specify an input arg and it will be used by the function. Here we define a small list of integers for our function to sum.\n",
    "\n",
    "The Web service will return the UUID for the executing task. This UUID can be used to check the status of the request and retrieve the result."
   ]
  },
  {
   "cell_type": "code",
   "execution_count": 4,
   "metadata": {
    "scrolled": true
   },
   "outputs": [
    {
     "name": "stdout",
     "output_type": "stream",
     "text": [
      "283020f3-2761-4816-8357-729471cda00e\n"
     ]
    }
   ],
   "source": [
    "endpoint_uuid = '4b116d3c-1703-4f8f-9f6f-39921e5864df' # Public tutorial endpoint\n",
    "\n",
    "payload = [1, 2, 3, 4, 5]\n",
    "\n",
    "res = fxc.run(payload, endpoint_id=endpoint_uuid, function_id=func_uuid)\n",
    "print(res)"
   ]
  },
  {
   "cell_type": "markdown",
   "metadata": {},
   "source": [
    "You can now retrieve the result of the invocation using `get_result()`. \n",
    "\n",
    "##### Note: We remove the task from our database once the result has been retrieved, thus you can only retireve the result once."
   ]
  },
  {
   "cell_type": "code",
   "execution_count": 5,
   "metadata": {},
   "outputs": [
    {
     "data": {
      "text/plain": [
       "15"
      ]
     },
     "execution_count": 5,
     "metadata": {},
     "output_type": "execute_result"
    }
   ],
   "source": [
    "fxc.get_result(res)"
   ]
  },
  {
   "cell_type": "code",
   "execution_count": null,
   "metadata": {},
   "outputs": [],
   "source": []
  }
 ],
 "metadata": {
  "kernelspec": {
   "display_name": "Python (funcx)",
   "language": "python",
   "name": "funcx"
  },
  "language_info": {
   "codemirror_mode": {
    "name": "ipython",
    "version": 3
   },
   "file_extension": ".py",
   "mimetype": "text/x-python",
   "name": "python",
   "nbconvert_exporter": "python",
   "pygments_lexer": "ipython3",
   "version": "3.6.8"
  }
 },
 "nbformat": 4,
 "nbformat_minor": 2
}
