{
 "cells": [
  {
   "cell_type": "markdown",
   "metadata": {},
   "source": [
    "# funcX Tutorial\n",
    "\n",
    "funcX is a Function-as-a-Service (FaaS) platform for science that enables you to convert almost any computing resource into a high-performance function serving device. To do this, you deploy a funcX endpoint agent on the resource, which integrates it into the function serving fabric, allowing you to dynamically send, monitor, and receive results from function invocations. funcX is built on top of [Parsl](https://parsl-project.org), enabling a funcX endpoint to use large compute resources via traditional batch queues, where funcX will dynamically provision, use, and release resources on-demand to fulfill function requests. The function service fabric, which is run centrally as a service, is hosted in AWS.\n",
    "\n",
    "Here we provide an example of using funcX to register a function and run it on a publicly available tutorial endpoint."
   ]
  },
  {
   "cell_type": "markdown",
   "metadata": {},
   "source": [
    "## funcX Client\n",
    "\n",
    "We start by instantiating a funcX client as a programmatic means of communicating with the function service fabric. The client allows you to:\n",
    "- Register functions\n",
    "- Register containers and execution environments\n",
    "- Launch registered functions against endpoints\n",
    "- Check the status of launched functions\n",
    "- Retrieve outputs from functions\n",
    "\n",
    "#### Authentication\n",
    "\n",
    "Instantiating a client will force an authentication flow where you will be asked to authenticate with Globus Auth. Every interaction with funcX is authenticated to allow us to enforce access control on both functions and endpoints. As part of the authentication process we request access to your identity information (to retrieve your email address) and Globus Groups management access. We require Groups access in order to facilitate sharing."
   ]
  },
  {
   "cell_type": "code",
   "execution_count": null,
   "metadata": {},
   "outputs": [],
   "source": [
    "from funcx.sdk.client import FuncXClient\n",
    "\n",
    "fxc = FuncXClient()"
   ]
  },
  {
   "cell_type": "markdown",
   "metadata": {},
   "source": [
    "Next we define a Python function, which we will later register with funcX. This function simply sums its input.\n",
    "\n",
    "When defining a function you can specify \\*args and \\*\\*kwargs as inputs. \n",
    "\n",
    "##### Note: any dependencies for a funcX function must be specified inside the function body."
   ]
  },
  {
   "cell_type": "code",
   "execution_count": null,
   "metadata": {},
   "outputs": [],
   "source": [
    "def funcx_sum(items):\n",
    "    return sum(items)"
   ]
  },
  {
   "cell_type": "markdown",
   "metadata": {},
   "source": [
    "## Registering a function\n",
    "\n",
    "To use a function with funcX, you must first register it with the service, using `register_function`. You can  optionally include a description of the function.\n",
    "\n",
    "The registration process will serialize the function body and transmit it to the funcX function service fabric.\n",
    "\n",
    "Registering a function returns a UUID for the function, which can then be used to invoke it."
   ]
  },
  {
   "cell_type": "code",
   "execution_count": null,
   "metadata": {},
   "outputs": [],
   "source": [
    "func_uuid = fxc.register_function(funcx_sum,\n",
    "                                  description=\"A summation function\")\n",
    "print(func_uuid)"
   ]
  },
  {
   "cell_type": "markdown",
   "metadata": {},
   "source": [
    "## Running a function\n",
    "\n",
    "To invoke (perform) a function, you must provide the function's UUID, returned from the registration process, and an `endpoint_id`. Note: here we use the funcX public tutorial endpoint, which is running on AWS.\n",
    "\n",
    "The client's `run` function will serialize any \\*args and \\*\\*kwargs, and pass them to the function when invoking it. Therefore, as our example function simply takes an arg input (items), we can specify an input arg and it will be used by the function. Here we define a small list of integers for our function to sum.\n",
    "\n",
    "The Web service will return the UUID for the invokation of the function, which we call a task. This UUID can be used to check the status of the task and retrieve the result."
   ]
  },
  {
   "cell_type": "code",
   "execution_count": null,
   "metadata": {
    "scrolled": true
   },
   "outputs": [],
   "source": [
    "endpoint_uuid = '4b116d3c-1703-4f8f-9f6f-39921e5864df' # Public tutorial endpoint\n",
    "\n",
    "items = [1, 2, 3, 4, 5]\n",
    "\n",
    "res = fxc.run(items, endpoint_id=endpoint_uuid, function_id=func_uuid)\n",
    "print(res)"
   ]
  },
  {
   "cell_type": "markdown",
   "metadata": {},
   "source": [
    "You can now retrieve the result of the invocation using `get_result()` on the UUID of the task. \n",
    "\n",
    "##### Note: We remove the task from our database once the result has been retrieved, thus you can only retireve the result once."
   ]
  },
  {
   "cell_type": "code",
   "execution_count": null,
   "metadata": {},
   "outputs": [],
   "source": [
    "fxc.get_result(res)"
   ]
  }
 ],
 "metadata": {
  "kernelspec": {
   "display_name": "Python 3",
   "language": "python",
   "name": "python3"
  },
  "language_info": {
   "codemirror_mode": {
    "name": "ipython",
    "version": 3
   },
   "file_extension": ".py",
   "mimetype": "text/x-python",
   "name": "python",
   "nbconvert_exporter": "python",
   "pygments_lexer": "ipython3",
   "version": "3.6.8"
  }
 },
 "nbformat": 4,
 "nbformat_minor": 2
}
