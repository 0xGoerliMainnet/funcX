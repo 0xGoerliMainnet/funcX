{
 "cells": [
  {
   "cell_type": "code",
   "execution_count": 1,
   "metadata": {},
   "outputs": [],
   "source": [
    "import redis\n",
    "import queue\n",
    "\n",
    "class RedisPubSub(object):\n",
    "\n",
    "    def __init__(self,\n",
    "                 hostname: str,\n",
    "                 port: int = 6379):\n",
    "        self.hostname = hostname\n",
    "        self.port = port\n",
    "\n",
    "    def connect(self):\n",
    "        try:\n",
    "            self.redis_client = redis.StrictRedis(host=self.hostname, port=self.port, decode_responses=True)\n",
    "            self.redis_client.ping()\n",
    "        except ConnectionError:\n",
    "            print(\"ConnectionError while trying to connect to Redis@{}:{}\".format(self.hostname,\n",
    "                                                                                  self.port))\n",
    "            raise\n",
    "        self.pubsub = self.redis_client.pubsub()    \n",
    "\n",
    "    def put(self, channel_name, message):\n",
    "        subscribers = self.redis_client.publish(channel_name, message)\n",
    "        print(f\"Received by {subscribers}\")\n",
    "        return subscribers\n",
    "    \n",
    "    def get(self, channel_name, timeout=2):        \n",
    "        try:\n",
    "            package = self.pubsub.get_message(ignore_subscribe_messages=True, timeout=timeout)\n",
    "            if not package:\n",
    "                raise queue.Empty(\"Channels empty\")            \n",
    "        except queue.Empty:\n",
    "            raise\n",
    "        return package\n",
    "    \n",
    "    def subscribe(self, channel_name):\n",
    "        self.pubsub.subscribe(channel_name)\n",
    "        \n",
    "    def unsubscribe(self, channel_name):\n",
    "        self.pubsub.unsubscribe(channel_name)"
   ]
  },
  {
   "cell_type": "code",
   "execution_count": 2,
   "metadata": {},
   "outputs": [],
   "source": [
    "# Connect to redis as two separate clients, so that we will have different\n",
    "# sockets that will buffer independently\n",
    "pub = RedisPubSub('127.0.0.1')\n",
    "sub = RedisPubSub('127.0.0.1')\n",
    "pub.connect()\n",
    "sub.connect()"
   ]
  },
  {
   "cell_type": "code",
   "execution_count": 3,
   "metadata": {},
   "outputs": [
    {
     "name": "stdout",
     "output_type": "stream",
     "text": [
      "Received by 0\n"
     ]
    },
    {
     "data": {
      "text/plain": [
       "0"
      ]
     },
     "execution_count": 3,
     "metadata": {},
     "output_type": "execute_result"
    }
   ],
   "source": [
    "pub.put(\"channel_foo\", \"message1\")"
   ]
  },
  {
   "cell_type": "code",
   "execution_count": null,
   "metadata": {},
   "outputs": [],
   "source": [
    "sub.subscribe(\"channel_foo\")\n",
    "x = pub.put(\"channel_foo\", \"message1\")"
   ]
  },
  {
   "cell_type": "code",
   "execution_count": 5,
   "metadata": {},
   "outputs": [
    {
     "data": {
      "text/plain": [
       "{'type': 'message',\n",
       " 'pattern': None,\n",
       " 'channel': 'channel_foo',\n",
       " 'data': 'message1'}"
      ]
     },
     "execution_count": 5,
     "metadata": {},
     "output_type": "execute_result"
    }
   ],
   "source": [
    "# Call twice to ignore first empty message\n",
    "sub.get(\"channel_foo\")\n",
    "sub.get(\"channel_foo\")"
   ]
  },
  {
   "cell_type": "code",
   "execution_count": 6,
   "metadata": {},
   "outputs": [
    {
     "name": "stdout",
     "output_type": "stream",
     "text": [
      "Received by 1\n",
      "Received by 1\n"
     ]
    }
   ],
   "source": [
    "# Here we post two messages which will be marked as received\n",
    "# because there are registered subscribers at this point\n",
    "x = pub.put(\"channel_foo\", \"message2\")\n",
    "x = pub.put(\"channel_foo\", \"message3\")"
   ]
  },
  {
   "cell_type": "code",
   "execution_count": 7,
   "metadata": {},
   "outputs": [],
   "source": [
    "sub.unsubscribe(\"channel_foo\")"
   ]
  },
  {
   "cell_type": "code",
   "execution_count": 9,
   "metadata": {},
   "outputs": [
    {
     "data": {
      "text/plain": [
       "{'type': 'message',\n",
       " 'pattern': None,\n",
       " 'channel': 'channel_foo',\n",
       " 'data': 'message3'}"
      ]
     },
     "execution_count": 9,
     "metadata": {},
     "output_type": "execute_result"
    }
   ],
   "source": [
    "# We will receive messages from channel_foo even though we just \n",
    "# unsubscribed because these are messages buffered and not yet processed.\n",
    "sub.get(\"channel_foo\")"
   ]
  },
  {
   "cell_type": "code",
   "execution_count": null,
   "metadata": {},
   "outputs": [],
   "source": []
  }
 ],
 "metadata": {
  "kernelspec": {
   "display_name": "Python 3",
   "language": "python",
   "name": "python3"
  },
  "language_info": {
   "codemirror_mode": {
    "name": "ipython",
    "version": 3
   },
   "file_extension": ".py",
   "mimetype": "text/x-python",
   "name": "python",
   "nbconvert_exporter": "python",
   "pygments_lexer": "ipython3",
   "version": "3.6.10"
  }
 },
 "nbformat": 4,
 "nbformat_minor": 4
}
