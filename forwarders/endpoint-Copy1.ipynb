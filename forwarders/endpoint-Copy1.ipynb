{
 "cells": [
  {
   "cell_type": "code",
   "execution_count": null,
   "metadata": {},
   "outputs": [],
   "source": [
    "import zmq\n",
    "from zmq.auth.thread import ThreadAuthenticator\n",
    "\n",
    "\n",
    "class TasksQueue(object):\n",
    "    \"\"\" Outgoing task queue from the executor to the Interchange                                                                                                                                                   \n",
    "    \"\"\"\n",
    "\n",
    "    def __init__(self, address, port=55001, mode='client'):\n",
    "        \"\"\"                                                                                                                                                                                                        \n",
    "        Parameters                                                                                                                                                                                                 \n",
    "        ----------                                                                                                                                                                                                 \n",
    "                                                                                                                                                                                                                   \n",
    "        address: str                                                                                                                                                                                            \n",
    "           address to connect                                                                                                                                                             \n",
    "        port: int                                                                                                                                                                                \n",
    "           Port to use\n",
    "        mode: string\n",
    "           Either 'client' or 'server'                                                                                                                                                                                         \n",
    "        \"\"\"\n",
    "        self.context = zmq.Context()\n",
    "        self.mode = mode\n",
    "        self.port = port\n",
    "\n",
    "        assert self.mode in ['client', 'server'], \"Only two modes are supported: client, server\"\n",
    "        \n",
    "        if self.mode == 'server':        \n",
    "            print(\"Configuring server\")\n",
    "            self.zmq_socket = self.context.socket(zmq.ROUTER)\n",
    "            self.zmq_socket.set_hwm(0)\n",
    "            print(\"Setting up auth-server\")\n",
    "            self.setup_auth()\n",
    "            self.zmq_socket.bind(\"tcp://*:{}\".format(port))\n",
    "        else:\n",
    "            self.zmq_socket = self.context.socket(zmq.DEALER)\n",
    "            self.zmq_socket.connect(\"tcp://{}:{}\".format(address, port))\n",
    "            \n",
    "        self.poller = zmq.Poller()\n",
    "        self.poller.register(self.zmq_socket, zmq.POLLOUT)\n",
    "        print(\"Initialized\")\n",
    "        \n",
    "    def setup_server_auth(self):\n",
    "        self.auth = ThreadAuthenticator(context=self.context)\n",
    "        \n",
    "        self.auth.configure_curve(domain=\"*\", location=(zmq.auth.CURVE_ALLOW_ANY))\n",
    "        self.auth.allow(\"127.0.0.1\")\n",
    "        self.auth.start()\n",
    "        \n",
    "        # Configure the listening socket\n",
    "        keys = zmq.auth.load_certificate(self._secret_key_file)\n",
    "        self.zmq_socket.setsockopt(zmq.CURVE_PUBLICKEY, keys[0])\n",
    "        self.zmq_socket.setsockopt(zmq.CURVE_SECRETKEY, keys[1])\n",
    "        self.zmq_socket.setsockopt(zmq.CURVE_SERVER, True)\n",
    "        print(\"Done\")\n",
    "        \n",
    "    def put(self, message, max_timeout=1000):\n",
    "        \"\"\" This function needs to be fast at the same time aware of the possibility of                                                                                                                            \n",
    "        ZMQ pipes overflowing.                                                                                                                                                                                     \n",
    "                                                                                                                                                                                                                   \n",
    "        The timeout increases slowly if contention is detected on ZMQ pipes.                                                                                                                                       \n",
    "        We could set copy=False and get slightly better latency but this results                                                                                                                                   \n",
    "        in ZMQ sockets reaching a broken state once there are ~10k tasks in flight.                                                                                                                                \n",
    "        This issue can be magnified if each the serialized buffer itself is larger.                                                                                                                                \n",
    "                                                                                                                                                                                                                   \n",
    "        Parameters                                                                                                                                                                                                 \n",
    "        ----------                                                                                                                                                                                                 \n",
    "                                                                                                                                                                                                                   \n",
    "        message : py object                                                                                                                                                                                        \n",
    "             Python object to send                                                                                                                                                                                 \n",
    "        max_timeout : int                                                                                                                                                                                          \n",
    "             Max timeout in milliseconds that we will wait for before raising an exception                                                                                                                         \n",
    "                                                                                                                                                                                                                   \n",
    "        Raises                                                                                                                                                                                                     \n",
    "        ------                                                                                                                                                                                                     \n",
    "                                                                                                                                                                                                                   \n",
    "        zmq.EAGAIN if the send failed.                                                                                                                                                                             \n",
    "                                                                                                                                                                                                                   \n",
    "        \"\"\"\n",
    "        assert self.mode == 'server', \"put is valid only on the server\"\n",
    "        timeout_ms = 0\n",
    "        current_wait = 0\n",
    "        logger.info(\"Putting task into queue\")\n",
    "        while current_wait < max_timeout:\n",
    "            socks = dict(self.poller.poll(timeout=timeout_ms))\n",
    "            if self.zmq_socket in socks and socks[self.zmq_socket] == zmq.POLLOUT:\n",
    "                # The copy option adds latency but reduces the risk of ZMQ overflow                                                                                                                                \n",
    "                self.zmq_socket.send_pyobj(message, copy=True)\n",
    "                return\n",
    "            else:\n",
    "                timeout_ms += 1\n",
    "                logger.debug(\"Not sending due to full zmq pipe, timeout: {} ms\".format(timeout_ms))\n",
    "            current_wait += timeout_ms\n",
    "\n",
    "        # Send has failed.                                                                                                                                                                                         \n",
    "        logger.debug(\"Remote side has been unresponsive for {}\".format(current_wait))\n",
    "        raise zmq.error.Again\n",
    "\n",
    "    def close(self):\n",
    "        self.zmq_socket.close()\n",
    "        self.context.term()\n"
   ]
  },
  {
   "cell_type": "code",
   "execution_count": null,
   "metadata": {},
   "outputs": [],
   "source": [
    "tq = TasksQueue('127.0.0.1', mode='server')"
   ]
  },
  {
   "cell_type": "code",
   "execution_count": 1,
   "metadata": {},
   "outputs": [],
   "source": [
    "import os\n",
    "import zmq\n",
    "from zmq.auth.thread import ThreadAuthenticator"
   ]
  },
  {
   "cell_type": "code",
   "execution_count": 3,
   "metadata": {},
   "outputs": [],
   "source": [
    "ctx = zmq.Context() #.instance()"
   ]
  },
  {
   "cell_type": "code",
   "execution_count": null,
   "metadata": {},
   "outputs": [],
   "source": [
    "# Start an authenticator for this context.\n",
    "auth = ThreadAuthenticator(ctx)\n",
    "auth.start()\n",
    "auth.allow('127.0.0.1')\n",
    "# Tell the authenticator how to handle CURVE requests\n",
    "auth.configure_curve(domain='*', location=zmq.auth.CURVE_ALLOW_ANY)\n",
    "\n",
    "secret_keys_dir = '/tmp'\n",
    "\n",
    "server = ctx.socket(zmq.ROUTER)\n",
    "server_secret_file = os.path.join(secret_keys_dir, \"server.key_secret\")\n",
    "server_public, server_secret = zmq.auth.load_certificate(server_secret_file)\n",
    "server.curve_secretkey = server_secret\n",
    "server.curve_publickey = server_public\n",
    "server.curve_server = True  # must come before bind\n",
    "server.bind('tcp://*:9000')"
   ]
  },
  {
   "cell_type": "code",
   "execution_count": 4,
   "metadata": {},
   "outputs": [],
   "source": [
    "client = ctx.socket(zmq.DEALER)\n",
    "import uuid\n",
    "uid = str(uuid.uuid4())\n",
    "client.setsockopt(zmq.IDENTITY, b'01')\n",
    "# We need two certificates, one for the client and one for\n",
    "# the server. The client must know the server's public key\n",
    "# to make a CURVE connection.\n",
    "\n",
    "client_secret_file = os.path.join('/tmp', \"client.key_secret\")\n",
    "client_public, client_secret = zmq.auth.load_certificate(client_secret_file)\n",
    "client.curve_secretkey = client_secret\n",
    "client.curve_publickey = client_public\n",
    "\n",
    "# The client must know the server's public key to make a CURVE connection.\n",
    "server_public_file = os.path.join('/tmp', \"server.key\")\n",
    "server_public, _ = zmq.auth.load_certificate(server_public_file)\n",
    "client.curve_serverkey = server_public\n"
   ]
  },
  {
   "cell_type": "code",
   "execution_count": 5,
   "metadata": {},
   "outputs": [],
   "source": [
    "client.connect('tcp://127.0.0.1:9000')"
   ]
  },
  {
   "cell_type": "code",
   "execution_count": 6,
   "metadata": {},
   "outputs": [],
   "source": [
    "client.send_multipart([b'fooo'])"
   ]
  },
  {
   "cell_type": "code",
   "execution_count": null,
   "metadata": {},
   "outputs": [],
   "source": [
    "source, *message = server.recv_multipart()\n",
    "print(f\"Got {message} from {source}\")"
   ]
  },
  {
   "cell_type": "code",
   "execution_count": null,
   "metadata": {},
   "outputs": [],
   "source": []
  },
  {
   "cell_type": "code",
   "execution_count": null,
   "metadata": {},
   "outputs": [],
   "source": []
  }
 ],
 "metadata": {
  "kernelspec": {
   "display_name": "Python 3",
   "language": "python",
   "name": "python3"
  },
  "language_info": {
   "codemirror_mode": {
    "name": "ipython",
    "version": 3
   },
   "file_extension": ".py",
   "mimetype": "text/x-python",
   "name": "python",
   "nbconvert_exporter": "python",
   "pygments_lexer": "ipython3",
   "version": "3.6.10"
  }
 },
 "nbformat": 4,
 "nbformat_minor": 4
}
